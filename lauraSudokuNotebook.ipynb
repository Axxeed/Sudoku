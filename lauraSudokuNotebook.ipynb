{
 "cells": [
  {
   "attachments": {},
   "cell_type": "markdown",
   "id": "b29e9a09",
   "metadata": {},
   "source": [
    "<div style=\"display: flex; background-color: RGB(236, 83, 78);\">\n",
    "    <h1 style=\"margin: auto; padding: 30px; \">SUDOKU CHECKER </h1>\n",
    "</div> "
   ]
  },
  {
   "cell_type": "markdown",
   "id": "4293a167",
   "metadata": {},
   "source": [
    "<p style=\" text-align:center;\"> <a style=\"font-size: 15px; color: RGB(236, 83, 78);\" href=\"https://sudoku.com/fr/comment-jouer/regles-de-sudoku-pour-les-debutants-complets/\"> Rules of the game</a>\n",
    "</p>"
   ]
  },
  {
   "cell_type": "markdown",
   "id": "a44e5159",
   "metadata": {},
   "source": [
    "<div style=\"border: 1px solid RGB(236, 83, 78);\" >\n",
    "<h2 style=\"margin: auto; padding: 10px; color: RGB(236, 83, 78); \"> Sudoku Checker with numpy library</h2>\n",
    "<p style=\"margin: auto; padding: 10px;\"> Create a program that checks if the 9x9 sudoku grid is valid </p> \n",
    "</div>"
   ]
  },
  {
   "cell_type": "code",
   "execution_count": 3,
   "id": "28c15097",
   "metadata": {},
   "outputs": [],
   "source": [
    "import numpy as np "
   ]
  },
  {
   "attachments": {},
   "cell_type": "markdown",
   "id": "acf2a639",
   "metadata": {},
   "source": [
    "<p style=\"font-size: 14px; color: #7F1E3A;\"> function random.randint() :\n",
    "<a style=\"color: #7F1E3A;\" href=\"https://numpy.org/doc/stable/reference/random/generated/numpy.random.randint.html\" > + info </a>\n",
    "</p>"
   ]
  },
  {
   "cell_type": "code",
   "execution_count": 16,
   "id": "3974d07d",
   "metadata": {},
   "outputs": [],
   "source": [
    "grid = np.random.randint(1,9, size=(9,9))"
   ]
  },
  {
   "cell_type": "code",
   "execution_count": 17,
   "id": "4df9f1c3",
   "metadata": {},
   "outputs": [
    {
     "data": {
      "text/plain": [
       "array([[6, 2, 1, 7, 2, 4, 1, 1, 6],\n",
       "       [7, 4, 8, 4, 8, 3, 2, 7, 8],\n",
       "       [4, 1, 5, 4, 5, 3, 6, 4, 3],\n",
       "       [3, 6, 5, 4, 5, 3, 1, 8, 4],\n",
       "       [1, 4, 6, 8, 7, 4, 7, 5, 4],\n",
       "       [4, 7, 8, 5, 7, 6, 5, 1, 2],\n",
       "       [5, 2, 4, 4, 5, 7, 7, 5, 7],\n",
       "       [2, 6, 8, 1, 2, 2, 5, 4, 5],\n",
       "       [3, 6, 4, 2, 8, 3, 7, 1, 1]])"
      ]
     },
     "execution_count": 17,
     "metadata": {},
     "output_type": "execute_result"
    }
   ],
   "source": [
    "grid"
   ]
  },
  {
   "cell_type": "code",
   "execution_count": 18,
   "id": "dc8c94c2",
   "metadata": {},
   "outputs": [],
   "source": [
    "# example of a valid sudoku grid\n",
    "grid_ok = np.array([[8, 3, 5, 4, 1, 6, 9, 2, 7], [2, 9, 6, 8, 5, 7, 4, 3, 1],\n",
    "           [4, 1, 7, 2, 9, 3, 6, 5, 8], [5, 6, 9, 1, 3, 4, 7, 8, 2],\n",
    "           [1, 2, 3, 6, 7, 8, 5, 4, 9], [7, 4, 8, 5, 2, 9, 1, 6, 3],\n",
    "           [6, 5, 2, 7, 8, 1, 3, 9, 4], [9, 8, 1, 3, 4, 5, 2, 7, 6],\n",
    "           [3, 7, 4, 9, 6, 2, 8, 1, 5]])"
   ]
  },
  {
   "cell_type": "markdown",
   "id": "5f8e90ea",
   "metadata": {},
   "source": [
    "<div style=\"color: RGB(236, 83, 78); font-size: 14px\"> Function that checks all sudoku rows </div> "
   ]
  },
  {
   "cell_type": "code",
   "execution_count": 23,
   "id": "2970b147",
   "metadata": {},
   "outputs": [],
   "source": [
    "def is_row_valid(grid):\n",
    "    for i in range(9):\n",
    "        if len(set(grid[i])) != 9:\n",
    "            return False\n",
    "        return True"
   ]
  },
  {
   "cell_type": "markdown",
   "id": "8d1afeca",
   "metadata": {},
   "source": [
    "<div style=\"color: RGB(236, 83, 78); font-size: 14px\"> Function that checks all sudoku columns </div>"
   ]
  },
  {
   "attachments": {},
   "cell_type": "markdown",
   "id": "09aee6f1",
   "metadata": {},
   "source": [
    "<p style=\"font-size: 14px; color: #7F1E3A;\"> function numpy transpose() :\n",
    "<a style=\"color: #7F1E3A;\" href=\"https://numpy.org/doc/stable/reference/generated/numpy.matrix.transpose.html?highlight=transpose#numpy.matrix.transpose\" > + info </a>\n",
    "</p>"
   ]
  },
  {
   "cell_type": "code",
   "execution_count": 24,
   "id": "e8c924e1",
   "metadata": {},
   "outputs": [],
   "source": [
    "def is_column_valid(grid):\n",
    "    col= grid.transpose()\n",
    "    for x in range(9):\n",
    "        if len(set(col[x])) != 9:\n",
    "            return False\n",
    "        return True"
   ]
  },
  {
   "cell_type": "markdown",
   "id": "c46f8d3f",
   "metadata": {},
   "source": [
    "<div style=\"color: RGB(236, 83, 78); font-size: 14px\"> Function that checks if a square is valid </div>"
   ]
  },
  {
   "attachments": {},
   "cell_type": "markdown",
   "id": "84124332",
   "metadata": {},
   "source": [
    "<p style=\"font-size: 14px; color: #7F1E3A;\"> function flatten() :\n",
    "<a style=\"color: #7F1E3A;\" href=\"https://numpy.org/doc/stable/reference/generated/numpy.matrix.flatten.html?highlight=flatten#numpy.matrix.flatten\" > + info </a>\n",
    "</p>"
   ]
  },
  {
   "cell_type": "code",
   "execution_count": 34,
   "id": "3e2cd815",
   "metadata": {},
   "outputs": [],
   "source": [
    "def is_square_valid(grid):\n",
    "    for i in range(9):\n",
    "        square = grid[i//3*3:i//3*3+3 , i%3*3:i%3*3+3].flatten()\n",
    "        if len(set(square)) != 9:\n",
    "            return False\n",
    "        else:\n",
    "            return True"
   ]
  },
  {
   "cell_type": "markdown",
   "id": "5b867a41",
   "metadata": {},
   "source": [
    "<div style=\"color: RGB(236, 83, 78); font-size: 14px\"> Function that checks if the sudoku grid is valid </div>\n"
   ]
  },
  {
   "cell_type": "code",
   "execution_count": 26,
   "id": "e97bf52d",
   "metadata": {},
   "outputs": [],
   "source": [
    "def is_sudoku_valid(grid):\n",
    "    if is_row_valid(grid) == True and is_column_valid(grid) == True and is_square_valid(grid) == True:\n",
    "        return \"Sudoku is valid\"\n",
    "    return \"Sudoku not valid\""
   ]
  }
 ],
 "metadata": {
  "kernelspec": {
   "display_name": "Python 3 (ipykernel)",
   "language": "python",
   "name": "python3"
  },
  "language_info": {
   "codemirror_mode": {
    "name": "ipython",
    "version": 3
   },
   "file_extension": ".py",
   "mimetype": "text/x-python",
   "name": "python",
   "nbconvert_exporter": "python",
   "pygments_lexer": "ipython3",
   "version": "3.8.12"
  },
  "toc": {
   "base_numbering": 1,
   "nav_menu": {},
   "number_sections": true,
   "sideBar": true,
   "skip_h1_title": false,
   "title_cell": "Table of Contents",
   "title_sidebar": "Contents",
   "toc_cell": false,
   "toc_position": {},
   "toc_section_display": true,
   "toc_window_display": false
  }
 },
 "nbformat": 4,
 "nbformat_minor": 5
}
